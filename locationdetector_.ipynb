{
  "nbformat": 4,
  "nbformat_minor": 0,
  "metadata": {
    "colab": {
      "name": "locationdetector .ipynb",
      "provenance": [],
      "authorship_tag": "ABX9TyMPM0FEdi9lrWKKZqHxZUiH",
      "include_colab_link": true
    },
    "kernelspec": {
      "display_name": "Python 3",
      "name": "python3"
    },
    "language_info": {
      "name": "python"
    }
  },
  "cells": [
    {
      "cell_type": "markdown",
      "metadata": {
        "id": "view-in-github",
        "colab_type": "text"
      },
      "source": [
        "<a href=\"https://colab.research.google.com/github/Vaishnavi02wankar/python/blob/main/locationdetector_.ipynb\" target=\"_parent\"><img src=\"https://colab.research.google.com/assets/colab-badge.svg\" alt=\"Open In Colab\"/></a>"
      ]
    },
    {
      "cell_type": "code",
      "metadata": {
        "colab": {
          "base_uri": "https://localhost:8080/"
        },
        "id": "wH4WOVuH6dMw",
        "outputId": "87e1aea4-5453-46cb-af35-fac0dc855bc3"
      },
      "source": [
        "from geopy.geocoders import Nominatim \n",
        "\n",
        "\n",
        "geolocator = Nominatim(user_agent=\"geoapiExercises\") \n",
        "\n",
        "\n",
        "\n",
        "pin = input()\n",
        "\n",
        "\n",
        "location = geolocator.geocode(pin) \n",
        "\n",
        "\n",
        "print(\"\\nLocation is :\", location.address) \n",
        " \n",
        "print(\"Latitude: \", location.latitude) \n",
        "print(\"Longitude: \", location.longitude) \n",
        " \n"
      ],
      "execution_count": 1,
      "outputs": [
        {
          "output_type": "stream",
          "text": [
            "442402\n",
            "\n",
            "Location is : Chandrapur, Chandrapur District, Maharashtra, 442402, India\n",
            "Latitude:  19.954512990697673\n",
            "Longitude:  79.29516356627907\n"
          ],
          "name": "stdout"
        }
      ]
    }
  ]
}