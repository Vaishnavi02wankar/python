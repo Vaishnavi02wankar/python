{
  "nbformat": 4,
  "nbformat_minor": 0,
  "metadata": {
    "colab": {
      "name": "controlstatementpython.ipynb",
      "provenance": [],
      "authorship_tag": "ABX9TyOU6IRlrRUzJlz9YmBrHDC8",
      "include_colab_link": true
    },
    "kernelspec": {
      "name": "python3",
      "display_name": "Python 3"
    },
    "language_info": {
      "name": "python"
    }
  },
  "cells": [
    {
      "cell_type": "markdown",
      "metadata": {
        "id": "view-in-github",
        "colab_type": "text"
      },
      "source": [
        "<a href=\"https://colab.research.google.com/github/Vaishnavi02wankar/python/blob/main/controlstatementpython.ipynb\" target=\"_parent\"><img src=\"https://colab.research.google.com/assets/colab-badge.svg\" alt=\"Open In Colab\"/></a>"
      ]
    },
    {
      "cell_type": "code",
      "metadata": {
        "id": "bMYP6AHJNfUJ"
      },
      "source": [
        "#Loops in Python"
      ],
      "execution_count": null,
      "outputs": []
    },
    {
      "cell_type": "markdown",
      "metadata": {
        "id": "yfzEF3lnQdQe"
      },
      "source": [
        "# While loop\n",
        "\n",
        "*italicized text*"
      ]
    },
    {
      "cell_type": "code",
      "metadata": {
        "id": "2iDc0dnqRB07"
      },
      "source": [
        "i=1\n",
        "while i<10 :\n",
        "  i=i+1\n",
        "  print(i)"
      ],
      "execution_count": null,
      "outputs": []
    },
    {
      "cell_type": "markdown",
      "metadata": {
        "id": "Q3JPB_HQO-wY"
      },
      "source": [
        "#for loop\n",
        " "
      ]
    },
    {
      "cell_type": "code",
      "metadata": {
        "id": "2PXEY890PJdX"
      },
      "source": [
        "x=(1,2,3,4,5)\n",
        "for i in x:\n",
        "  print(i)"
      ],
      "execution_count": null,
      "outputs": []
    },
    {
      "cell_type": "code",
      "metadata": {
        "id": "EjJkcXynPX9a"
      },
      "source": [
        "# range returns a sequence its build in function\n",
        "# range(start,end,steps)\n",
        "\n",
        "a=list(range(1,15,2))\n",
        "print(a)"
      ],
      "execution_count": null,
      "outputs": []
    }
  ]
}