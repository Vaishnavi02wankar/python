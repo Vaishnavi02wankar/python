{
  "nbformat": 4,
  "nbformat_minor": 0,
  "metadata": {
    "colab": {
      "name": "DatatypePythonCourse.ipynb",
      "provenance": [],
      "collapsed_sections": [],
      "authorship_tag": "ABX9TyMJWWLRUvuU/cT6QipQh5/x",
      "include_colab_link": true
    },
    "kernelspec": {
      "name": "python3",
      "display_name": "Python 3"
    },
    "language_info": {
      "name": "python"
    }
  },
  "cells": [
    {
      "cell_type": "markdown",
      "metadata": {
        "id": "view-in-github",
        "colab_type": "text"
      },
      "source": [
        "<a href=\"https://colab.research.google.com/github/Vaishnavi02wankar/python/blob/main/DatatypePythonCourse.ipynb\" target=\"_parent\"><img src=\"https://colab.research.google.com/assets/colab-badge.svg\" alt=\"Open In Colab\"/></a>"
      ]
    },
    {
      "cell_type": "code",
      "metadata": {
        "id": "EYAe_U8BC1oF"
      },
      "source": [
        "#data types in python\n",
        "\n",
        "a=10\n",
        "b=20.36\n",
        "x=10+9j\n",
        "num=89>67\n",
        "print(type(a))\n",
        "print(type(b))\n",
        "print(type(x))\n",
        "print(type(num))\n",
        "print(num)\n",
        "print(x)"
      ],
      "execution_count": null,
      "outputs": []
    },
    {
      "cell_type": "code",
      "metadata": {
        "id": "O52ImR4xINRz"
      },
      "source": [
        "#string data types unicode char values\n",
        "# fetching value from start 1 2 3 4\n",
        "# fetching value from end -4 -3 -2 -1\n",
        "\n",
        "x=\"python\"\n",
        "a=input()\n",
        "print('hello',x,a)\n",
        "print(a[2])"
      ],
      "execution_count": null,
      "outputs": []
    },
    {
      "cell_type": "code",
      "metadata": {
        "id": "ku9B0odccUJ8"
      },
      "source": [
        "a=\"python\"\n",
        "print(a.upper())\n",
        "x=a.replace('n','u')\n",
        "print(x)"
      ],
      "execution_count": null,
      "outputs": []
    },
    {
      "cell_type": "code",
      "metadata": {
        "id": "3XiFE2JtdNPl"
      },
      "source": [
        "#lists mutable(changeable) , unordered , duplicate value acceptable\n",
        "\n",
        "list=[10,20,30,40,'abcd']\n",
        "print(list)\n",
        "print(list[2:4])\n",
        "print(list[2])\n",
        "list[-1]"
      ],
      "execution_count": null,
      "outputs": []
    },
    {
      "cell_type": "code",
      "metadata": {
        "id": "Pqa6YqFFfCZm"
      },
      "source": [
        "list=[10,11,12,13,14]\n",
        "list[2]=55\n",
        "print(list)\n",
        "list.append(66)\n",
        "print(list)\n",
        "list.insert(4,77)\n",
        "print(list)\n",
        "list.reverse()\n",
        "print(list)\n",
        "list.sort()\n",
        "print(list)\n",
        "list[4]"
      ],
      "execution_count": null,
      "outputs": []
    },
    {
      "cell_type": "code",
      "metadata": {
        "id": "NSZKvrkPgtZi"
      },
      "source": [
        "#tuple immutable , with () , without ()\n",
        "\n",
        "t1=(10,20,'a')\n",
        "t2=100,200,300\n",
        "print(type(t1))\n",
        "print(type(t2))\n",
        "t1[0:2]\n",
        "t1[-1]"
      ],
      "execution_count": null,
      "outputs": []
    },
    {
      "cell_type": "code",
      "metadata": {
        "id": "pLtxUUGLiUtY"
      },
      "source": [
        "del t1     # tuple deleted\n",
        "print(t1)"
      ],
      "execution_count": null,
      "outputs": []
    },
    {
      "cell_type": "code",
      "metadata": {
        "id": "m_L--9yOixup"
      },
      "source": [
        "t1=(1,2,3,4,5)\n",
        "t1\n",
        "t1*2     #repeating tuple 2 times\n",
        "print(t1*2)\n",
        "\n",
        "t2=('hello','world')\n",
        "t1+t2     #concate two tuple\n",
        "print(t1+t2)\n",
        "\n",
        "print(2 in t1)\n",
        "\n"
      ],
      "execution_count": null,
      "outputs": []
    },
    {
      "cell_type": "code",
      "metadata": {
        "id": "InPprfx-jy85"
      },
      "source": [
        "for i in t1:\n",
        "  print(i)\n",
        "\n",
        "max(t1)\n",
        "print('max',max(t1))\n",
        "min(t1)\n",
        "print('min',min(t1))\n"
      ],
      "execution_count": null,
      "outputs": []
    },
    {
      "cell_type": "code",
      "metadata": {
        "id": "epRl9KXFkk5N"
      },
      "source": [
        "s='hello'\n",
        "tuple(s)"
      ],
      "execution_count": null,
      "outputs": []
    },
    {
      "cell_type": "code",
      "metadata": {
        "id": "7lTbiclClNLs"
      },
      "source": [
        "#Dictionary  key-values , key=access / value=mutable"
      ],
      "execution_count": 53,
      "outputs": []
    },
    {
      "cell_type": "code",
      "metadata": {
        "id": "xFSyv6ZpmaK8"
      },
      "source": [
        "dict={1:\"sunny\", 2:\"bunny\", 3:\"money\"}\n",
        "print(dict)\n",
        "print(dict[2])\n",
        "\n",
        "print(dict.get(1))\n",
        "dict.get(3)\n",
        "\n",
        "dict[4]=\"honey\"\n",
        "print(dict)\n",
        "\n",
        "dict.pop(3)\n",
        "print(dict)\n",
        "\n",
        "dict.keys()\n",
        "print(dict)\n",
        "\n",
        "dict.values()\n",
        "print(dict)\n",
        "\n",
        "dict.clear()\n",
        "print(dict)"
      ],
      "execution_count": null,
      "outputs": []
    },
    {
      "cell_type": "code",
      "metadata": {
        "id": "NnAT4HKXpcb_"
      },
      "source": [
        "# set collection of unordered elements, mutable ,  unindexed, "
      ],
      "execution_count": 73,
      "outputs": []
    },
    {
      "cell_type": "code",
      "metadata": {
        "colab": {
          "base_uri": "https://localhost:8080/"
        },
        "id": "JoMKySJPpwz5",
        "outputId": "84bfc849-34f3-4319-f940-88865656720c"
      },
      "source": [
        "s={1, 2.4,'abc'}\n",
        "print(s)\n",
        "\n",
        "print(len(s))\n",
        "\n",
        "for x in s:\n",
        "  print(x)\n",
        "\n",
        "s.add('xyz')\n",
        "print(s)\n",
        "\n",
        "s.update([24,10,60])\n",
        "print(s)\n",
        "\n",
        "s.remove('abc')\n",
        "print(s)\n",
        "\n",
        "s.clear()\n",
        "print(s)"
      ],
      "execution_count": 87,
      "outputs": [
        {
          "output_type": "stream",
          "text": [
            "{1, 2.4, 'abc'}\n",
            "3\n",
            "1\n",
            "2.4\n",
            "abc\n",
            "{1, 2.4, 'xyz', 'abc'}\n",
            "{1, 2.4, 10, 'abc', 24, 60, 'xyz'}\n",
            "{1, 2.4, 10, 24, 60, 'xyz'}\n",
            "set()\n"
          ],
          "name": "stdout"
        }
      ]
    }
  ]
}