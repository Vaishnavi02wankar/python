{
  "nbformat": 4,
  "nbformat_minor": 0,
  "metadata": {
    "colab": {
      "name": "weather_forecast.ipynb",
      "provenance": [],
      "authorship_tag": "ABX9TyMpEEzc5Bqxre4dXtKY6wUj",
      "include_colab_link": true
    },
    "kernelspec": {
      "name": "python3",
      "display_name": "Python 3"
    },
    "language_info": {
      "name": "python"
    }
  },
  "cells": [
    {
      "cell_type": "markdown",
      "metadata": {
        "id": "view-in-github",
        "colab_type": "text"
      },
      "source": [
        "<a href=\"https://colab.research.google.com/github/Vaishnavi02wankar/python/blob/main/weather_forecast.ipynb\" target=\"_parent\"><img src=\"https://colab.research.google.com/assets/colab-badge.svg\" alt=\"Open In Colab\"/></a>"
      ]
    },
    {
      "cell_type": "code",
      "metadata": {
        "id": "NUze_Ih18q1S"
      },
      "source": [
        ""
      ],
      "execution_count": null,
      "outputs": []
    },
    {
      "cell_type": "code",
      "metadata": {
        "colab": {
          "base_uri": "https://localhost:8080/"
        },
        "id": "oC7f9_5Lt0GB",
        "outputId": "0e1780a5-e85a-4efa-8242-b997d258ae32"
      },
      "source": [
        "# Python program to find current \n",
        "# weather details of any city \n",
        "# using openweathermap api \n",
        "\n",
        "# import required modules \n",
        "import requests, json \n",
        "\n",
        "# Enter your API key here \n",
        "api_key = \"b0c707b42daa5189ddcb5cf28aaf5ee1\"\n",
        "\n",
        "# base_url variable to store url \n",
        "base_url = \"http://api.openweathermap.org/data/2.5/weather?\"\n",
        "\n",
        "# Give city name \n",
        "city_name = input(\"Enter city name : \") \n",
        "\n",
        "# complete_url variable to store \n",
        "# complete url address \n",
        "complete_url = base_url + \"appid=\" + api_key + \"&q=\" + city_name \n",
        "\n",
        "# get method of requests module \n",
        "# return response object \n",
        "response = requests.get(complete_url) \n",
        "\n",
        "# json method of response object \n",
        "# convert json format data into \n",
        "# python format data \n",
        "x = response.json() \n",
        "\n",
        "# Now x contains list of nested dictionaries \n",
        "# Check the value of \"cod\" key is equal to \n",
        "# \"404\", means city is found otherwise, \n",
        "# city is not found \n",
        "if x[\"cod\"] != \"404\": \n",
        "\n",
        "\t# store the value of \"main\" \n",
        "\t# key in variable y \n",
        "\ty = x[\"main\"] \n",
        "\n",
        "\t# store the value corresponding \n",
        "\t# to the \"temp\" key of y \n",
        "\tcurrent_temperature = y[\"temp\"] \n",
        "\n",
        "\t# store the value corresponding \n",
        "\t# to the \"pressure\" key of y \n",
        "\tcurrent_pressure = y[\"pressure\"] \n",
        "\n",
        "\t# store the value corresponding \n",
        "\t# to the \"humidity\" key of y \n",
        "\tcurrent_humidiy = y[\"humidity\"] \n",
        "\n",
        "\t# store the value of \"weather\" \n",
        "\t# key in variable z \n",
        "\tz = x[\"weather\"] \n",
        "\n",
        "\t# store the value corresponding \n",
        "\t# to the \"description\" key at \n",
        "\t# the 0th index of z \n",
        "\tweather_description = z[0][\"description\"] \n",
        "\n",
        "\t# print following values \n",
        "\tprint(\" Temperature (in kelvin unit) = \" +\n",
        "\t\t\t\t\tstr(current_temperature-273.15) +\n",
        "\t\t\"\\n atmospheric pressure (in hPa unit) = \" +\n",
        "\t\t\t\t\tstr(current_pressure) +\n",
        "\t\t\"\\n humidity (in percentage) = \" +\n",
        "\t\t\t\t\tstr(current_humidiy) +\n",
        "\t\t\"\\n description = \" +\n",
        "\t\t\t\t\tstr(weather_description)) \n",
        "\n",
        "else: \n",
        "\tprint(\" City Not Found \") \n"
      ],
      "execution_count": null,
      "outputs": [
        {
          "output_type": "stream",
          "text": [
            "Enter city name : chandrapur\n",
            " Temperature (in kelvin unit) = 35.64000000000004\n",
            " atmospheric pressure (in hPa unit) = 1007\n",
            " humidity (in percentage) = 21\n",
            " description = scattered clouds\n"
          ],
          "name": "stdout"
        }
      ]
    }
  ]
}